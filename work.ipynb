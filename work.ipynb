{
 "cells": [
  {
   "cell_type": "code",
   "execution_count": 1,
   "metadata": {},
   "outputs": [
    {
     "name": "stdout",
     "output_type": "stream",
     "text": [
      "1632\n"
     ]
    }
   ],
   "source": [
    "from RDF import *\n",
    "from aflow import *\n",
    "from math import pi\n",
    "from pymatgen.core.structure import Structure\n",
    "from pymatgen.symmetry.analyzer import SpacegroupAnalyzer\n",
    "\n",
    "results = search(batch_size=20\n",
    "        ).filter(K.Egap > 1\n",
    "        ).filter(K.nspecies == 2\n",
    "        ).filter(K.natoms < 5)\n",
    "print(len(results))"
   ]
  },
  {
   "cell_type": "code",
   "execution_count": 2,
   "metadata": {},
   "outputs": [],
   "source": [
    "X = []\n",
    "Y = []\n",
    "for result in results[100:150]:\n",
    "    crystal = Structure.from_str(result.files['CONTCAR.relax.vasp'](), fmt='poscar')\n",
    "    X.append(RDF(crystal).RDF[:,1])\n",
    "    Y.append(result.Egap)\n",
    "\n"
   ]
  },
  {
   "cell_type": "code",
   "execution_count": 4,
   "metadata": {},
   "outputs": [
    {
     "data": {
      "text/plain": [
       "50"
      ]
     },
     "execution_count": 4,
     "metadata": {},
     "output_type": "execute_result"
    }
   ],
   "source": [
    "len(Y)"
   ]
  },
  {
   "cell_type": "code",
   "execution_count": 20,
   "metadata": {},
   "outputs": [
    {
     "data": {
      "text/plain": [
       "0"
      ]
     },
     "execution_count": 20,
     "metadata": {},
     "output_type": "execute_result"
    }
   ],
   "source": [
    "from tempfile import TemporaryFile\n",
    "outfile = TemporaryFile()\n",
    "np.save(outfile, X, Y)\n",
    "outfile.seek(0) # Only needed here to simulate closing & reopening file\n"
   ]
  },
  {
   "cell_type": "code",
   "execution_count": 21,
   "metadata": {
    "collapsed": true
   },
   "outputs": [],
   "source": [
    "data = np.load(outfile)"
   ]
  },
  {
   "cell_type": "code",
   "execution_count": 27,
   "metadata": {},
   "outputs": [
    {
     "data": {
      "text/plain": [
       "array([[ 0.        ,  0.        ,  0.        , ...,  6.64672187,\n",
       "         1.48230431,  3.34438048],\n",
       "       [ 0.        ,  0.        ,  0.        , ...,  1.83837414,\n",
       "         7.10633794,  3.43571699],\n",
       "       [ 0.        ,  0.        ,  0.        , ...,  4.08590148,\n",
       "         2.15376552,  2.77676214],\n",
       "       ...,\n",
       "       [ 0.        ,  0.        ,  0.        , ...,  1.18254022,\n",
       "         5.1425722 ,  1.10501814],\n",
       "       [ 0.        ,  0.        ,  0.        , ...,  5.44958851,\n",
       "         4.38868518, 10.18467541],\n",
       "       [ 0.        ,  0.        ,  0.        , ...,  2.09145187,\n",
       "         7.50715092,  1.67515336]])"
      ]
     },
     "execution_count": 27,
     "metadata": {},
     "output_type": "execute_result"
    }
   ],
   "source": [
    "data"
   ]
  },
  {
   "cell_type": "code",
   "execution_count": 28,
   "metadata": {},
   "outputs": [
    {
     "data": {
      "text/plain": [
       "array([[ 0.        ,  0.        ,  0.        , ...,  6.64672187,\n",
       "         1.48230431,  3.34438048],\n",
       "       [ 0.        ,  0.        ,  0.        , ...,  1.83837414,\n",
       "         7.10633794,  3.43571699],\n",
       "       [ 0.        ,  0.        ,  0.        , ...,  4.08590148,\n",
       "         2.15376552,  2.77676214],\n",
       "       ...,\n",
       "       [ 0.        ,  0.        ,  0.        , ...,  1.18254022,\n",
       "         5.1425722 ,  1.10501814],\n",
       "       [ 0.        ,  0.        ,  0.        , ...,  5.44958851,\n",
       "         4.38868518, 10.18467541],\n",
       "       [ 0.        ,  0.        ,  0.        , ...,  2.09145187,\n",
       "         7.50715092,  1.67515336]])"
      ]
     },
     "execution_count": 28,
     "metadata": {},
     "output_type": "execute_result"
    }
   ],
   "source": [
    "X "
   ]
  },
  {
   "cell_type": "code",
   "execution_count": null,
   "metadata": {},
   "outputs": [],
   "source": [
    "dir(results)"
   ]
  },
  {
   "cell_type": "code",
   "execution_count": null,
   "metadata": {
    "collapsed": true
   },
   "outputs": [],
   "source": []
  }
 ],
 "metadata": {
  "kernelspec": {
   "display_name": "Python 3",
   "language": "python",
   "name": "python3"
  },
  "language_info": {
   "codemirror_mode": {
    "name": "ipython",
    "version": 3
   },
   "file_extension": ".py",
   "mimetype": "text/x-python",
   "name": "python",
   "nbconvert_exporter": "python",
   "pygments_lexer": "ipython3",
   "version": "3.6.0"
  }
 },
 "nbformat": 4,
 "nbformat_minor": 2
}
